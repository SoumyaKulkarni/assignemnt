{
 "cells": [
  {
   "cell_type": "markdown",
   "id": "3bd57bc5",
   "metadata": {},
   "source": [
    "Question 1:\n",
    "Please write a program using generator to print the numbers which can be divisible by 5 and\n",
    "7 between 0 and n in comma separated form while n is input by console.\n",
    "Example:\n",
    "If the following n is given as input to the program:\n",
    "100\n",
    "Then, the output of the program should be:\n",
    "0,35,70\n",
    "\n",
    "Question 2:\n",
    "Please write a program using generator to print the even numbers between 0 and n in comma\n",
    "separated form while n is input by console.\n",
    "Example:\n",
    "If the following n is given as input to the program:\n",
    "10\n",
    "Then, the output of the program should be:\n",
    "0,2,4,6,8,10\n",
    "\n",
    "Question 3:\n",
    "The Fibonacci Sequence is computed based on the following formula:\n",
    "f(n)=0 if n=0\n",
    "f(n)=1 if n=1\n",
    "f(n)=f(n-1)+f(n-2) if n&gt;1\n",
    "Please write a program using list comprehension to print the Fibonacci Sequence in comma\n",
    "separated form with a given n input by console.\n",
    "Example:\n",
    "If the following n is given as input to the program:\n",
    "7\n",
    "\n",
    "Then, the output of the program should be:\n",
    "0,1,1,2,3,5,8,13\n",
    "\n",
    "Question 4:\n",
    "Assuming that we have some email addresses in the &quot;username@companyname.com&quot; format,\n",
    "please write program to print the user name of a given email address. Both user names and\n",
    "company names are composed of letters only.\n",
    "Example:\n",
    "If the following email address is given as input to the program:\n",
    "john@google.com\n",
    "Then, the output of the program should be:\n",
    "john\n",
    "\n",
    "Question 5:\n",
    "Define a class named Shape and its subclass Square. The Square class has an init function\n",
    "which takes a length as argument. Both classes have a area function which can print the area\n",
    "of the shape where Shape&#39;s area is 0 by default."
   ]
  },
  {
   "cell_type": "code",
   "execution_count": 6,
   "id": "a29cdc4d",
   "metadata": {},
   "outputs": [
    {
     "name": "stdout",
     "output_type": "stream",
     "text": [
      "Enter the value of n: 47\n",
      "0,35\n"
     ]
    }
   ],
   "source": [
    "# 1\n",
    "\n",
    "def divisible_by_5_and_7(n):\n",
    "    for i in range(n+1):\n",
    "        if i % 5 == 0 and i % 7 == 0:\n",
    "            yield str(i)\n",
    "\n",
    "n = int(input(\"Enter the value of n: \"))\n",
    "result = divisible_by_5_and_7(n)\n",
    "print(\",\".join(result))\n"
   ]
  },
  {
   "cell_type": "code",
   "execution_count": 7,
   "id": "5b11dfca",
   "metadata": {},
   "outputs": [
    {
     "name": "stdout",
     "output_type": "stream",
     "text": [
      "Enter the value of n: 5\n",
      "0,2,4\n"
     ]
    }
   ],
   "source": [
    "# 2\n",
    "\n",
    "def even_numbers(n):\n",
    "    for i in range(n+1):\n",
    "        if i % 2 == 0:\n",
    "            yield str(i)\n",
    "\n",
    "n = int(input(\"Enter the value of n: \"))\n",
    "result = even_numbers(n)\n",
    "print(\",\".join(result))\n"
   ]
  },
  {
   "cell_type": "code",
   "execution_count": 8,
   "id": "be92ead7",
   "metadata": {},
   "outputs": [
    {
     "name": "stdout",
     "output_type": "stream",
     "text": [
      "Enter the value of n: 6\n",
      "0,1,1,2,3,5,8\n"
     ]
    }
   ],
   "source": [
    "# 3\n",
    "\n",
    "n = int(input(\"Enter the value of n: \"))\n",
    "fibonacci_seq = [0, 1]\n",
    "[fibonacci_seq.append(fibonacci_seq[-1] + fibonacci_seq[-2]) for i in range(n-1)]\n",
    "print(\",\".join(str(i) for i in fibonacci_seq))\n"
   ]
  },
  {
   "cell_type": "code",
   "execution_count": 9,
   "id": "95b6e291",
   "metadata": {},
   "outputs": [
    {
     "name": "stdout",
     "output_type": "stream",
     "text": [
      "Enter an email address: sk@g.com\n",
      "sk\n"
     ]
    }
   ],
   "source": [
    "# 4\n",
    "\n",
    "email = input(\"Enter an email address: \")\n",
    "username = email.split(\"@\")[0]\n",
    "print(username)\n"
   ]
  },
  {
   "cell_type": "code",
   "execution_count": 10,
   "id": "697b0114",
   "metadata": {},
   "outputs": [],
   "source": [
    "# 5\n",
    "class Shape:\n",
    "    def area(self):\n",
    "        return 0\n",
    "\n",
    "class Square(Shape):\n",
    "    def __init__(self, length):\n",
    "        self.length = length\n",
    "    \n",
    "    def area(self):\n",
    "        return self.length ** 2\n"
   ]
  },
  {
   "cell_type": "code",
   "execution_count": null,
   "id": "7cb34fd1",
   "metadata": {},
   "outputs": [],
   "source": []
  }
 ],
 "metadata": {
  "kernelspec": {
   "display_name": "Python 3 (ipykernel)",
   "language": "python",
   "name": "python3"
  },
  "language_info": {
   "codemirror_mode": {
    "name": "ipython",
    "version": 3
   },
   "file_extension": ".py",
   "mimetype": "text/x-python",
   "name": "python",
   "nbconvert_exporter": "python",
   "pygments_lexer": "ipython3",
   "version": "3.10.9"
  }
 },
 "nbformat": 4,
 "nbformat_minor": 5
}
