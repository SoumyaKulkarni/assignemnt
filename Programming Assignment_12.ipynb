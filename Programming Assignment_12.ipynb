{
 "cells": [
  {
   "cell_type": "markdown",
   "id": "6f365319",
   "metadata": {},
   "source": [
    "1. Write a Python program to Extract Unique values dictionary values?\n",
    "2. Write a Python program to find the sum of all items in a dictionary?\n",
    "3. Write a Python program to Merging two Dictionaries?\n",
    "4. Write a Python program to convert key-values list to flat dictionary?\n",
    "5. Write a Python program to insertion at the beginning in OrderedDict?\n",
    "6. Write a Python program to check order of character in string using OrderedDict()?\n",
    "7. Write a Python program to sort Python Dictionaries by Key or Value?"
   ]
  },
  {
   "cell_type": "code",
   "execution_count": 8,
   "id": "151120f7",
   "metadata": {},
   "outputs": [
    {
     "name": "stdout",
     "output_type": "stream",
     "text": [
      "[1, 2, 3]\n"
     ]
    }
   ],
   "source": [
    "# 1\n",
    "def unique_values_dict(d):\n",
    "    unique_values = []\n",
    "    for value in d.values():\n",
    "        if value not in unique_values:\n",
    "            unique_values.append(value)\n",
    "    return unique_values\n",
    "\n",
    "# Example usage:\n",
    "d = {'a': 1, 'b': 2, 'c': 1, 'd': 3, 'e': 2}\n",
    "print(unique_values_dict(d))  # Output: [1, 2, 3]\n"
   ]
  },
  {
   "cell_type": "code",
   "execution_count": 9,
   "id": "38102b1e",
   "metadata": {},
   "outputs": [
    {
     "name": "stdout",
     "output_type": "stream",
     "text": [
      "9\n"
     ]
    }
   ],
   "source": [
    "# 2\n",
    "def sum_dict_values(d):\n",
    "    return sum(d.values())\n",
    "\n",
    "# Example usage:\n",
    "d = {'a': 1, 'b': 2, 'c': 1, 'd': 3, 'e': 2}\n",
    "print(sum_dict_values(d))  # Output: 9\n"
   ]
  },
  {
   "cell_type": "code",
   "execution_count": 10,
   "id": "6ae58328",
   "metadata": {},
   "outputs": [
    {
     "name": "stdout",
     "output_type": "stream",
     "text": [
      "{'a': 1, 'b': 2, 'c': 3, 'd': 4}\n"
     ]
    }
   ],
   "source": [
    "# 3\n",
    "\n",
    "def merge_dict(d1, d2):\n",
    "    return {**d1, **d2}\n",
    "\n",
    "# Example usage:\n",
    "d1 = {'a': 1, 'b': 2}\n",
    "d2 = {'c': 3, 'd': 4}\n",
    "print(merge_dict(d1, d2))  # Output: {'a': 1, 'b': 2, 'c': 3, 'd': 4}\n"
   ]
  },
  {
   "cell_type": "code",
   "execution_count": 11,
   "id": "90064148",
   "metadata": {},
   "outputs": [
    {
     "name": "stdout",
     "output_type": "stream",
     "text": [
      "{'a': 1, 'b': 2, 'c': 3}\n"
     ]
    }
   ],
   "source": [
    "# 4\n",
    "\n",
    "def list_to_dict(l):\n",
    "    return {l[i]: l[i + 1] for i in range(0, len(l), 2)}\n",
    "\n",
    "# Example usage:\n",
    "l = ['a', 1, 'b', 2, 'c', 3]\n",
    "print(list_to_dict(l))  # Output: {'a': 1, 'b': 2, 'c': 3}\n"
   ]
  },
  {
   "cell_type": "code",
   "execution_count": 13,
   "id": "f94602e8",
   "metadata": {},
   "outputs": [
    {
     "ename": "KeyError",
     "evalue": "'d'",
     "output_type": "error",
     "traceback": [
      "\u001b[1;31m---------------------------------------------------------------------------\u001b[0m",
      "\u001b[1;31mKeyError\u001b[0m                                  Traceback (most recent call last)",
      "Cell \u001b[1;32mIn[13], line 11\u001b[0m\n\u001b[0;32m      9\u001b[0m \u001b[38;5;66;03m# Example usage:\u001b[39;00m\n\u001b[0;32m     10\u001b[0m d \u001b[38;5;241m=\u001b[39m OrderedDict([(\u001b[38;5;124m'\u001b[39m\u001b[38;5;124ma\u001b[39m\u001b[38;5;124m'\u001b[39m, \u001b[38;5;241m1\u001b[39m), (\u001b[38;5;124m'\u001b[39m\u001b[38;5;124mb\u001b[39m\u001b[38;5;124m'\u001b[39m, \u001b[38;5;241m2\u001b[39m), (\u001b[38;5;124m'\u001b[39m\u001b[38;5;124mc\u001b[39m\u001b[38;5;124m'\u001b[39m, \u001b[38;5;241m3\u001b[39m)])\n\u001b[1;32m---> 11\u001b[0m \u001b[38;5;28mprint\u001b[39m(\u001b[43minsert_beginning\u001b[49m\u001b[43m(\u001b[49m\u001b[43md\u001b[49m\u001b[43m,\u001b[49m\u001b[43m \u001b[49m\u001b[38;5;124;43m'\u001b[39;49m\u001b[38;5;124;43md\u001b[39;49m\u001b[38;5;124;43m'\u001b[39;49m\u001b[43m,\u001b[49m\u001b[43m \u001b[49m\u001b[38;5;241;43m4\u001b[39;49m\u001b[43m)\u001b[49m)\n",
      "Cell \u001b[1;32mIn[13], line 5\u001b[0m, in \u001b[0;36minsert_beginning\u001b[1;34m(d, key, value)\u001b[0m\n\u001b[0;32m      4\u001b[0m \u001b[38;5;28;01mdef\u001b[39;00m \u001b[38;5;21minsert_beginning\u001b[39m(d, key, value):\n\u001b[1;32m----> 5\u001b[0m     \u001b[43md\u001b[49m\u001b[38;5;241;43m.\u001b[39;49m\u001b[43mmove_to_end\u001b[49m\u001b[43m(\u001b[49m\u001b[43mkey\u001b[49m\u001b[43m,\u001b[49m\u001b[43m \u001b[49m\u001b[43mlast\u001b[49m\u001b[38;5;241;43m=\u001b[39;49m\u001b[38;5;28;43;01mFalse\u001b[39;49;00m\u001b[43m)\u001b[49m\n\u001b[0;32m      6\u001b[0m     d[key] \u001b[38;5;241m=\u001b[39m value\n\u001b[0;32m      7\u001b[0m     \u001b[38;5;28;01mreturn\u001b[39;00m d\n",
      "\u001b[1;31mKeyError\u001b[0m: 'd'"
     ]
    }
   ],
   "source": [
    "# 5\n",
    "from collections import OrderedDict\n",
    "\n",
    "def insert_beginning(d, key, value):\n",
    "    d.move_to_end(key, last=False)\n",
    "    d[key] = value\n",
    "    return d\n",
    "\n",
    "# Example usage:\n",
    "d = OrderedDict([('a', 1), ('b', 2), ('c', 3)])\n",
    "print(insert_beginning(d, 'd', 4))\n",
    "\n"
   ]
  },
  {
   "cell_type": "code",
   "execution_count": 14,
   "id": "225ad282",
   "metadata": {},
   "outputs": [
    {
     "name": "stdout",
     "output_type": "stream",
     "text": [
      "True\n"
     ]
    }
   ],
   "source": [
    "# 6\n",
    "from collections import OrderedDict\n",
    "\n",
    "def check_order(s, pattern):\n",
    "    d = OrderedDict.fromkeys(s)\n",
    "    pattern_index = 0\n",
    "    for key in d.keys():\n",
    "        if key == pattern[pattern_index]:\n",
    "            pattern_index += 1\n",
    "        if pattern_index == len(pattern):\n",
    "            return True\n",
    "    return False\n",
    "\n",
    "# Example usage:\n",
    "s = 'Python programming'\n",
    "pattern = 'yhn'\n",
    "print(check_order(s, pattern))  # Output: True\n"
   ]
  },
  {
   "cell_type": "code",
   "execution_count": 15,
   "id": "9631cf2d",
   "metadata": {},
   "outputs": [
    {
     "name": "stdout",
     "output_type": "stream",
     "text": [
      "{'a': 3, 'b': 2, 'c': 1}\n",
      "{'c': 1, 'b': 2, 'a': 3}\n"
     ]
    }
   ],
   "source": [
    "# 7\n",
    "def sort_dict_by_key(d):\n",
    "    return dict(sorted(d.items(), key=lambda x: x[0]))\n",
    "\n",
    "def sort_dict_by_value(d):\n",
    "    return dict(sorted(d.items(), key=lambda x: x[1]))\n",
    "\n",
    "# Example usage:\n",
    "d = {'a': 3, 'c': 1, 'b': 2}\n",
    "print(sort_dict_by_key(d))  # Output: {'a': 3, 'b': 2, 'c': 1}\n",
    "print(sort_dict_by_value(d))  # Output: {'c': 1, 'b': 2, '\n"
   ]
  },
  {
   "cell_type": "code",
   "execution_count": null,
   "id": "0f33625f",
   "metadata": {},
   "outputs": [],
   "source": []
  }
 ],
 "metadata": {
  "kernelspec": {
   "display_name": "Python 3 (ipykernel)",
   "language": "python",
   "name": "python3"
  },
  "language_info": {
   "codemirror_mode": {
    "name": "ipython",
    "version": 3
   },
   "file_extension": ".py",
   "mimetype": "text/x-python",
   "name": "python",
   "nbconvert_exporter": "python",
   "pygments_lexer": "ipython3",
   "version": "3.10.9"
  }
 },
 "nbformat": 4,
 "nbformat_minor": 5
}
