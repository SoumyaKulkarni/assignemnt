{
 "cells": [
  {
   "cell_type": "markdown",
   "id": "05d0a7f5",
   "metadata": {},
   "source": [
    "1. Write a Python program to find words which are greater than given length k?\n",
    "2. Write a Python program for removing i-th character from a string?\n",
    "3. Write a Python program to split and join a string?\n",
    "4. Write a Python to check if a given string is binary string or not?\n",
    "5. Write a Python program to find uncommon words from two Strings?\n",
    "6. Write a Python to find all duplicate characters in string?\n",
    "7. Write a Python Program to check if a string contains any special character?"
   ]
  },
  {
   "cell_type": "code",
   "execution_count": 8,
   "id": "69a3d154",
   "metadata": {},
   "outputs": [
    {
     "name": "stdout",
     "output_type": "stream",
     "text": [
      "['sample', 'string', 'words', 'different', 'lengths']\n"
     ]
    }
   ],
   "source": [
    "# 1\n",
    "def find_long_words(string, k):\n",
    "    words = string.split()\n",
    "    long_words = []\n",
    "    for word in words:\n",
    "        if len(word) > k:\n",
    "            long_words.append(word)\n",
    "    return long_words\n",
    "\n",
    "\n",
    "string = \"This is a sample string with words of different lengths\"\n",
    "k = 4\n",
    "long_words = find_long_words(string, k)\n",
    "print(long_words)\n"
   ]
  },
  {
   "cell_type": "code",
   "execution_count": 9,
   "id": "3e7ad6a7",
   "metadata": {},
   "outputs": [
    {
     "name": "stdout",
     "output_type": "stream",
     "text": [
      "Hell, World!\n"
     ]
    }
   ],
   "source": [
    "# 2\n",
    "\n",
    "def remove_char(string, i):\n",
    "    new_string = string[:i] + string[i+1:]\n",
    "    return new_string\n",
    "\n",
    "string = \"Hello, World!\"\n",
    "i = 4\n",
    "new_string = remove_char(string, i)\n",
    "print(new_string)\n"
   ]
  },
  {
   "cell_type": "code",
   "execution_count": 11,
   "id": "b2a38fed",
   "metadata": {},
   "outputs": [
    {
     "name": "stdout",
     "output_type": "stream",
     "text": [
      "This-is-a-sample-string\n"
     ]
    }
   ],
   "source": [
    "# 3\n",
    "\n",
    "def split_and_join(string, separator):\n",
    "    words = string.split(separator)\n",
    "    new_string = \"-\".join(words)\n",
    "    return new_string\n",
    "\n",
    "string = \"This is a sample string\"\n",
    "separator = \" \"\n",
    "new_string = split_and_join(string, separator)\n",
    "print(new_string)\n"
   ]
  },
  {
   "cell_type": "code",
   "execution_count": 12,
   "id": "48650651",
   "metadata": {},
   "outputs": [
    {
     "name": "stdout",
     "output_type": "stream",
     "text": [
      "True\n",
      "False\n"
     ]
    }
   ],
   "source": [
    "# 4\n",
    "\n",
    "def is_binary(string):\n",
    "    for char in string:\n",
    "        if char not in ['0', '1']:\n",
    "            return False\n",
    "    return True\n",
    "\n",
    "string1 = \"101011\"\n",
    "string2 = \"12345\"\n",
    "print(is_binary(string1))\n",
    "print(is_binary(string2))\n",
    "\n"
   ]
  },
  {
   "cell_type": "code",
   "execution_count": 13,
   "id": "31a8f263",
   "metadata": {},
   "outputs": [
    {
     "name": "stdout",
     "output_type": "stream",
     "text": [
      "{'with', 'a', 'different', 'another', 'words'}\n"
     ]
    }
   ],
   "source": [
    "# 5\n",
    "\n",
    "def find_uncommon_words(string1, string2):\n",
    "    set1 = set(string1.split())\n",
    "    set2 = set(string2.split())\n",
    "    uncommon_words = set1.symmetric_difference(set2)\n",
    "    return uncommon_words\n",
    "\n",
    "string1 = \"This is a sample string\"\n",
    "string2 = \"This is another sample string with different words\"\n",
    "uncommon_words = find_uncommon_words(string1, string2)\n",
    "print(uncommon_words)\n"
   ]
  },
  {
   "cell_type": "code",
   "execution_count": 14,
   "id": "5ad28835",
   "metadata": {},
   "outputs": [
    {
     "name": "stdout",
     "output_type": "stream",
     "text": [
      "Duplicate characters: ['l', 'o']\n"
     ]
    }
   ],
   "source": [
    "# 6\n",
    "\n",
    "string = \"hello world\"\n",
    "freq = {}\n",
    "for char in string:\n",
    "    if char in freq:\n",
    "        freq[char] += 1\n",
    "    else:\n",
    "        freq[char] = 1\n",
    "duplicates = [char for char, count in freq.items() if count > 1]\n",
    "print(\"Duplicate characters:\", duplicates)\n"
   ]
  },
  {
   "cell_type": "code",
   "execution_count": 15,
   "id": "ea062c97",
   "metadata": {},
   "outputs": [
    {
     "name": "stdout",
     "output_type": "stream",
     "text": [
      "String contains special character(s).\n"
     ]
    }
   ],
   "source": [
    "# 7\n",
    "import re\n",
    "\n",
    "string = \"Hello, World! 123\"\n",
    "pattern = re.compile('[^a-zA-Z0-9]+')\n",
    "if pattern.search(string):\n",
    "    print(\"String contains special character(s).\")\n",
    "else:\n",
    "    print(\"String does not contain any special characters.\")\n"
   ]
  },
  {
   "cell_type": "code",
   "execution_count": null,
   "id": "b3213a5b",
   "metadata": {},
   "outputs": [],
   "source": []
  }
 ],
 "metadata": {
  "kernelspec": {
   "display_name": "Python 3 (ipykernel)",
   "language": "python",
   "name": "python3"
  },
  "language_info": {
   "codemirror_mode": {
    "name": "ipython",
    "version": 3
   },
   "file_extension": ".py",
   "mimetype": "text/x-python",
   "name": "python",
   "nbconvert_exporter": "python",
   "pygments_lexer": "ipython3",
   "version": "3.10.9"
  }
 },
 "nbformat": 4,
 "nbformat_minor": 5
}
