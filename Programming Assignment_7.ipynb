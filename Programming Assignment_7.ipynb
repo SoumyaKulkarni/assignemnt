{
 "cells": [
  {
   "cell_type": "markdown",
   "id": "f16c4788",
   "metadata": {},
   "source": [
    "1. Write a Python Program to find sum of array?\n",
    "2. Write a Python Program to find largest element in an array?\n",
    "3. Write a Python Program for array rotation?\n",
    "4. Write a Python Program to Split the array and add the first part to the end?\n",
    "5. Write a Python Program to check if given array is Monotonic?"
   ]
  },
  {
   "cell_type": "code",
   "execution_count": 2,
   "id": "747eb3dd",
   "metadata": {},
   "outputs": [
    {
     "name": "stdout",
     "output_type": "stream",
     "text": [
      "Sum of array: 15\n"
     ]
    }
   ],
   "source": [
    "# 1\n",
    "def sum_of_array(arr):\n",
    "    sum = 0\n",
    "    for i in arr:\n",
    "        sum += i\n",
    "    return sum\n",
    "\n",
    "# example usage\n",
    "array = [1, 2, 3, 4, 5]\n",
    "print(\"Sum of array:\", sum_of_array(array))\n"
   ]
  },
  {
   "cell_type": "code",
   "execution_count": 3,
   "id": "d31f7fb5",
   "metadata": {},
   "outputs": [
    {
     "name": "stdout",
     "output_type": "stream",
     "text": [
      "Largest element in array: 9\n"
     ]
    }
   ],
   "source": [
    "# 2\n",
    "def largest_in_array(arr):\n",
    "    max = arr[0]\n",
    "    for i in arr:\n",
    "        if i > max:\n",
    "            max = i\n",
    "    return max\n",
    "\n",
    "# example usage\n",
    "array = [1, 9, 5, 2, 6]\n",
    "print(\"Largest element in array:\", largest_in_array(array))\n"
   ]
  },
  {
   "cell_type": "code",
   "execution_count": 4,
   "id": "e7ce306c",
   "metadata": {},
   "outputs": [
    {
     "name": "stdout",
     "output_type": "stream",
     "text": [
      "Array after rotation: [3, 4, 5, 1, 2]\n"
     ]
    }
   ],
   "source": [
    "# 3\n",
    "def rotate_array(arr, d):\n",
    "    n = len(arr)\n",
    "    d = d % n\n",
    "    return arr[d:] + arr[:d]\n",
    "\n",
    "# example usage\n",
    "array = [1, 2, 3, 4, 5]\n",
    "d = 2\n",
    "print(\"Array after rotation:\", rotate_array(array, d))\n"
   ]
  },
  {
   "cell_type": "code",
   "execution_count": 5,
   "id": "45937381",
   "metadata": {},
   "outputs": [
    {
     "name": "stdout",
     "output_type": "stream",
     "text": [
      "Array after splitting and adding: [3, 4, 5, 1, 2]\n"
     ]
    }
   ],
   "source": [
    "# 4\n",
    "def split_and_add(arr, k):\n",
    "    return arr[k:] + arr[:k]\n",
    "\n",
    "# example usage\n",
    "array = [1, 2, 3, 4, 5]\n",
    "k = 2\n",
    "print(\"Array after splitting and adding:\", split_and_add(array, k))\n"
   ]
  },
  {
   "cell_type": "code",
   "execution_count": null,
   "id": "37eae2a0",
   "metadata": {},
   "outputs": [],
   "source": [
    "# 5\n"
   ]
  }
 ],
 "metadata": {
  "kernelspec": {
   "display_name": "Python 3 (ipykernel)",
   "language": "python",
   "name": "python3"
  },
  "language_info": {
   "codemirror_mode": {
    "name": "ipython",
    "version": 3
   },
   "file_extension": ".py",
   "mimetype": "text/x-python",
   "name": "python",
   "nbconvert_exporter": "python",
   "pygments_lexer": "ipython3",
   "version": "3.10.9"
  }
 },
 "nbformat": 4,
 "nbformat_minor": 5
}
