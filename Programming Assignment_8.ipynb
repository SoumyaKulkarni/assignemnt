{
 "cells": [
  {
   "cell_type": "markdown",
   "id": "69cf764a",
   "metadata": {},
   "source": [
    "1. Write a Python Program to Add Two Matrices?\n",
    "2. Write a Python Program to Multiply Two Matrices?\n",
    "3. Write a Python Program to Transpose a Matrix?\n",
    "4. Write a Python Program to Sort Words in Alphabetic Order?\n",
    "5. Write a Python Program to Remove Punctuation From a String?"
   ]
  },
  {
   "cell_type": "code",
   "execution_count": 7,
   "id": "d37bedb0",
   "metadata": {},
   "outputs": [
    {
     "name": "stdout",
     "output_type": "stream",
     "text": [
      "[[11, 13, 15], [17, 19, 21], [23, 25, 27]]\n"
     ]
    }
   ],
   "source": [
    "# 1\n",
    "def add_matrices(X, Y):\n",
    "    result = []\n",
    "    \n",
    "    for i in range(len(X)):\n",
    "        \n",
    "        row = []\n",
    "        \n",
    "        for j in range(len(X[0])):\n",
    "            \n",
    "            row.append(X[i][j] + Y[i][j])\n",
    "        \n",
    "        result.append(row)\n",
    "    \n",
    "    return result\n",
    "\n",
    "X = [[1,2,3], [4,5,6], [7,8,9]]\n",
    "Y = [[10,11,12], [13,14,15], [16,17,18]]\n",
    "print(add_matrices(X, Y))\n"
   ]
  },
  {
   "cell_type": "code",
   "execution_count": 10,
   "id": "4df180dd",
   "metadata": {},
   "outputs": [
    {
     "name": "stdout",
     "output_type": "stream",
     "text": [
      "[[27, 30, 33], [61, 68, 75], [95, 106, 117]]\n"
     ]
    }
   ],
   "source": [
    "# 2\n",
    "def multiply_matrices(X, Y):\n",
    "    \n",
    "    result = []\n",
    "    \n",
    "    for i in range(len(X)):\n",
    "        \n",
    "        row = []\n",
    "        \n",
    "        for j in range(len(Y[0])):\n",
    "            \n",
    "            element = 0\n",
    "            \n",
    "            for k in range(len(Y)):\n",
    "                element += X[i][k] * Y[k][j]\n",
    "            \n",
    "            row.append(element)\n",
    "        \n",
    "        result.append(row)\n",
    "    \n",
    "    return result\n",
    "\n",
    "X = [[1,2], [3,4], [5,6]]\n",
    "Y = [[7,8,9], [10,11,12]]\n",
    "print(multiply_matrices(X, Y))\n",
    "\n",
    "            \n"
   ]
  },
  {
   "cell_type": "code",
   "execution_count": 11,
   "id": "08cf99fd",
   "metadata": {},
   "outputs": [
    {
     "name": "stdout",
     "output_type": "stream",
     "text": [
      "[[1, 4, 7], [2, 5, 8], [3, 6, 9]]\n"
     ]
    }
   ],
   "source": [
    "# 3\n",
    "# Function to transpose a matrix\n",
    "def transpose_matrix(X):\n",
    "    \n",
    "    result = []\n",
    "    for j in range(len(X[0])):\n",
    "        row = []\n",
    "        \n",
    "        for i in range(len(X)):\n",
    "            row.append(X[i][j])\n",
    "        result.append(row)\n",
    "    \n",
    "    return result\n",
    "\n",
    "X = [[1,2,3], [4,5,6], [7,8,9]]\n",
    "print(transpose_matrix(X))\n"
   ]
  },
  {
   "cell_type": "code",
   "execution_count": 12,
   "id": "cc12ed2c",
   "metadata": {},
   "outputs": [
    {
     "name": "stdout",
     "output_type": "stream",
     "text": [
      "Hello\n",
      "Python\n",
      "a\n",
      "alphabetic\n",
      "in\n",
      "is\n",
      "order\n",
      "program\n",
      "sort\n",
      "this\n",
      "to\n",
      "words\n",
      "world\n"
     ]
    }
   ],
   "source": [
    "# 4\n",
    "my_str = \"Hello world this is a Python program to sort words in alphabetic order\"\n",
    "\n",
    "words = my_str.split()\n",
    "\n",
    "words.sort()\n",
    "\n",
    "for word in words:\n",
    "    print(word)\n"
   ]
  },
  {
   "cell_type": "code",
   "execution_count": 13,
   "id": "3b79e54f",
   "metadata": {},
   "outputs": [
    {
     "name": "stdout",
     "output_type": "stream",
     "text": [
      "Hello world this is a Python program to remove punctuation\n"
     ]
    }
   ],
   "source": [
    "# 5\n",
    "import string\n",
    "\n",
    "my_str = \"Hello! world, this is a Python program to remove punctuation.\"\n",
    "\n",
    "no_punct = my_str.translate(str.maketrans(\"\", \"\", string.punctuation))\n",
    "\n",
    "print(no_punct)\n"
   ]
  },
  {
   "cell_type": "code",
   "execution_count": null,
   "id": "487b0fc1",
   "metadata": {},
   "outputs": [],
   "source": []
  }
 ],
 "metadata": {
  "kernelspec": {
   "display_name": "Python 3 (ipykernel)",
   "language": "python",
   "name": "python3"
  },
  "language_info": {
   "codemirror_mode": {
    "name": "ipython",
    "version": 3
   },
   "file_extension": ".py",
   "mimetype": "text/x-python",
   "name": "python",
   "nbconvert_exporter": "python",
   "pygments_lexer": "ipython3",
   "version": "3.10.9"
  }
 },
 "nbformat": 4,
 "nbformat_minor": 5
}
