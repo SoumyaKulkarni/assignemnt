{
 "cells": [
  {
   "cell_type": "markdown",
   "id": "1c722925",
   "metadata": {},
   "source": [
    "Question 1:\n",
    "Write a program that calculates and prints the value according to the given formula:\n",
    "Q = Square root of [(2 * C * D)/H]\n",
    "Following are the fixed values of C and H:\n",
    "C is 50. H is 30.\n",
    "D is the variable whose values should be input to your program in a comma-separated\n",
    "sequence.\n",
    "Example\n",
    "Let us assume the following comma separated input sequence is given to the program:\n",
    "100,150,180\n",
    "The output of the program should be:\n",
    "18,22,24\n",
    "\n",
    "Question 2:\n",
    "Write a program which takes 2 digits, X,Y as input and generates a 2-dimensional array. The\n",
    "element value in the i-th row and j-th column of the array should be i*j.\n",
    "Note: i=0,1.., X-1; j=0,1,¡Y-1.\n",
    "Example\n",
    "Suppose the following inputs are given to the program:\n",
    "3,5\n",
    "Then, the output of the program should be:\n",
    "[[0, 0, 0, 0, 0], [0, 1, 2, 3, 4], [0, 2, 4, 6, 8]]\n",
    "\n",
    "Question 3:\n",
    "Write a program that accepts a comma separated sequence of words as input and prints the\n",
    "words in a comma-separated sequence after sorting them alphabetically.\n",
    "Suppose the following input is supplied to the program:\n",
    "without,hello,bag,world\n",
    "Then, the output should be:\n",
    "bag,hello,without,world\n",
    "\n",
    "Question 4:\n",
    "Write a program that accepts a sequence of whitespace separated words as input and prints\n",
    "the words after removing all duplicate words and sorting them alphanumerically.\n",
    "Suppose the following input is supplied to the program:\n",
    "hello world and practice makes perfect and hello world again\n",
    "Then, the output should be:\n",
    "again and hello makes perfect practice world\n",
    "\n",
    "Question 5:\n",
    "Write a program that accepts a sentence and calculate the number of letters and digits.\n",
    "Suppose the following input is supplied to the program:\n",
    "hello world! 123\n",
    "Then, the output should be:\n",
    "LETTERS 10\n",
    "\n",
    "DIGITS 3\n",
    "\n",
    "Question 6:\n",
    "A website requires the users to input username and password to register. Write a program to\n",
    "check the validity of password input by users.\n",
    "Following are the criteria for checking the password:\n",
    "1. At least 1 letter between [a-z]\n",
    "2. At least 1 number between [0-9]\n",
    "1. At least 1 letter between [A-Z]\n",
    "3. At least 1 character from [$#@]\n",
    "4. Minimum length of transaction password: 6\n",
    "5. Maximum length of transaction password: 12\n",
    "Your program should accept a sequence of comma separated passwords and will check them\n",
    "according to the above criteria. Passwords that match the criteria are to be printed, each\n",
    "separated by a comma.\n",
    "Example\n",
    "If the following passwords are given as input to the program:\n",
    "ABd1234@1,a F1#,2w3E*,2We3345\n",
    "Then, the output of the program should be:\n",
    "ABd1234@1"
   ]
  },
  {
   "cell_type": "code",
   "execution_count": 2,
   "id": "a8dd35f1",
   "metadata": {},
   "outputs": [
    {
     "name": "stdout",
     "output_type": "stream",
     "text": [
      "Enter comma separated values for D: 11,11,000\n",
      "Output: 6,6,0\n"
     ]
    }
   ],
   "source": [
    "# 1\n",
    "import math\n",
    "\n",
    "C = 50\n",
    "H = 30\n",
    "\n",
    "values = input(\"Enter comma separated values for D: \")\n",
    "D = [int(i) for i in values.split(\",\")]\n",
    "\n",
    "results = []\n",
    "for d in D:\n",
    "    q = round(math.sqrt((2 * C * d) / H))\n",
    "    results.append(q)\n",
    "\n",
    "print(\"Output: \" + \",\".join(str(r) for r in results))\n"
   ]
  },
  {
   "cell_type": "code",
   "execution_count": 6,
   "id": "cc816030",
   "metadata": {},
   "outputs": [
    {
     "name": "stdout",
     "output_type": "stream",
     "text": [
      "Enter values for X and Y: 1,2\n",
      "[[0, 0]]\n"
     ]
    }
   ],
   "source": [
    "# 2\n",
    "X, Y = input(\"Enter values for X and Y: \").split(\",\")\n",
    "X = int(X)\n",
    "Y = int(Y)\n",
    "\n",
    "array = [[0 for j in range(Y)] for i in range(X)]\n",
    "for i in range(X):\n",
    "    for j in range(Y):\n",
    "        array[i][j] = i*j\n",
    "\n",
    "print(array)\n"
   ]
  },
  {
   "cell_type": "code",
   "execution_count": 7,
   "id": "54fe238d",
   "metadata": {},
   "outputs": [
    {
     "name": "stdout",
     "output_type": "stream",
     "text": [
      "Enter comma separated sequence of words: hello,world\n",
      "hello,world\n"
     ]
    }
   ],
   "source": [
    "# 3\n",
    "words = input(\"Enter comma separated sequence of words: \")\n",
    "sorted_words = sorted(words.split(\",\"))\n",
    "print(\",\".join(sorted_words))\n"
   ]
  },
  {
   "cell_type": "code",
   "execution_count": 8,
   "id": "483de2b2",
   "metadata": {},
   "outputs": [
    {
     "name": "stdout",
     "output_type": "stream",
     "text": [
      "Enter sequence of whitespace separated words: hello        world   !\n",
      "! hello world\n"
     ]
    }
   ],
   "source": [
    "# 4\n",
    "words = input(\"Enter sequence of whitespace separated words: \")\n",
    "word_list = words.split()\n",
    "unique_words = sorted(set(word_list))\n",
    "print(\" \".join(unique_words))\n"
   ]
  },
  {
   "cell_type": "code",
   "execution_count": 9,
   "id": "6feebf0c",
   "metadata": {},
   "outputs": [
    {
     "name": "stdout",
     "output_type": "stream",
     "text": [
      "Enter a sentence: I want to study\n",
      "LETTERS 12\n",
      "DIGITS 0\n"
     ]
    }
   ],
   "source": [
    "# 5\n",
    "sentence = input(\"Enter a sentence: \")\n",
    "letters = 0\n",
    "digits = 0\n",
    "for char in sentence:\n",
    "    if char.isalpha():\n",
    "        letters += 1\n",
    "    elif char.isdigit():\n",
    "        digits += 1\n",
    "\n",
    "print(\"LETTERS\", letters)\n",
    "print(\"DIGITS\", digits)\n"
   ]
  },
  {
   "cell_type": "code",
   "execution_count": 11,
   "id": "9289ebab",
   "metadata": {},
   "outputs": [
    {
     "name": "stdout",
     "output_type": "stream",
     "text": [
      "Enter comma separated passwords: hello, hi, how, are, you\n",
      "\n"
     ]
    }
   ],
   "source": [
    "# 6\n",
    "import re\n",
    "\n",
    "passwords = input(\"Enter comma separated passwords: \").split(\",\")\n",
    "\n",
    "valid_passwords = []\n",
    "for password in passwords:\n",
    "    if len(password) < 6 or len(password) > 12:\n",
    "        continue\n",
    "    if not re.search(\"[a-z]\", password):\n",
    "        continue\n",
    "    if not re.search(\"[A-Z]\", password):\n",
    "        continue\n",
    "    if not re.search(\"[0-9]\", password):\n",
    "        continue\n",
    "    if not re.search(\"[$#@]\", password):\n",
    "        continue\n",
    "    valid_passwords.append(password)\n",
    "\n",
    "print(\",\".join(valid_passwords))\n"
   ]
  },
  {
   "cell_type": "code",
   "execution_count": null,
   "id": "2bc8031c",
   "metadata": {},
   "outputs": [],
   "source": []
  }
 ],
 "metadata": {
  "kernelspec": {
   "display_name": "Python 3 (ipykernel)",
   "language": "python",
   "name": "python3"
  },
  "language_info": {
   "codemirror_mode": {
    "name": "ipython",
    "version": 3
   },
   "file_extension": ".py",
   "mimetype": "text/x-python",
   "name": "python",
   "nbconvert_exporter": "python",
   "pygments_lexer": "ipython3",
   "version": "3.10.9"
  }
 },
 "nbformat": 4,
 "nbformat_minor": 5
}
