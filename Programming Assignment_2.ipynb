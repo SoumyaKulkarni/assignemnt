{
 "cells": [
  {
   "cell_type": "markdown",
   "id": "046c81b5",
   "metadata": {},
   "source": [
    "1. Write a Python program to convert kilometers to miles?\n",
    "2. Write a Python program to convert Celsius to Fahrenheit?\n",
    "3. Write a Python program to display calendar?\n",
    "4. Write a Python program to solve quadratic equation?\n",
    "5. Write a Python program to swap two variables without temp variable?"
   ]
  },
  {
   "cell_type": "code",
   "execution_count": 2,
   "id": "e4494c0b",
   "metadata": {},
   "outputs": [
    {
     "name": "stdout",
     "output_type": "stream",
     "text": [
      "Enter value in kilometers: 3\n",
      "3.00 kilometers is equal to 1.86 miles\n"
     ]
    }
   ],
   "source": [
    "# 1\n",
    "kilometers = float(input(\"Enter value in kilometers: \"))\n",
    "\n",
    "conv_fac = 0.621371\n",
    "\n",
    "miles = kilometers * conv_fac\n",
    "print('%0.2f kilometers is equal to %0.2f miles' %(kilometers,miles))"
   ]
  },
  {
   "cell_type": "code",
   "execution_count": 3,
   "id": "6d6ec1c0",
   "metadata": {},
   "outputs": [
    {
     "name": "stdout",
     "output_type": "stream",
     "text": [
      "Enter value in celsius: 4\n",
      "4.00 celsius is equal to 39.20 fahrenheit\n"
     ]
    }
   ],
   "source": [
    "#  2\n",
    "celsius = float(input(\"Enter value in celsius: \"))\n",
    "fahrenheit = celsius * 1.8 + 32\n",
    "print('%0.2f celsius is equal to %0.2f fahrenheit' %(celsius,fahrenheit))"
   ]
  },
  {
   "cell_type": "code",
   "execution_count": 4,
   "id": "026259fc",
   "metadata": {},
   "outputs": [
    {
     "name": "stdout",
     "output_type": "stream",
     "text": [
      "Enter year: 2015\n",
      "Enter month: 2\n",
      "   February 2015\n",
      "Mo Tu We Th Fr Sa Su\n",
      "                   1\n",
      " 2  3  4  5  6  7  8\n",
      " 9 10 11 12 13 14 15\n",
      "16 17 18 19 20 21 22\n",
      "23 24 25 26 27 28\n",
      "\n"
     ]
    }
   ],
   "source": [
    "# 3\n",
    "import calendar\n",
    "yy = int(input(\"Enter year: \"))\n",
    "mm = int(input(\"Enter month: \"))\n",
    "print(calendar.month(yy, mm))\n"
   ]
  },
  {
   "cell_type": "code",
   "execution_count": 5,
   "id": "a3f23ebe",
   "metadata": {},
   "outputs": [
    {
     "name": "stdout",
     "output_type": "stream",
     "text": [
      "The solution are (-3+0j) and (-2+0j)\n"
     ]
    }
   ],
   "source": [
    "# 4\n",
    "\n",
    "import cmath\n",
    "# quadratic equation ax**2 + bx + c = 0\n",
    "\n",
    "a = 1\n",
    "b = 5\n",
    "c = 6\n",
    "\n",
    "# calculate the discriminant\n",
    "d = (b**2) - (4*a*c)\n",
    "\n",
    "# find two solutions\n",
    "sol1 = (-b-cmath.sqrt(d))/(2*a)\n",
    "sol2 = (-b+cmath.sqrt(d))/(2*a)\n",
    "\n",
    "print('The solution are {0} and {1}'.format(sol1,sol2))"
   ]
  },
  {
   "cell_type": "code",
   "execution_count": 6,
   "id": "6d347984",
   "metadata": {},
   "outputs": [
    {
     "name": "stdout",
     "output_type": "stream",
     "text": [
      "Enter a: 19\n",
      "Enter b: 4\n",
      "a= 4.0 , b= 19.0\n"
     ]
    }
   ],
   "source": [
    "# 5\n",
    "a = float(input(\"Enter a: \"))\n",
    "b = float(input(\"Enter b: \"))\n",
    "\n",
    "a,b = b,a\n",
    "print(\"a=\",a,\", b=\",b)"
   ]
  },
  {
   "cell_type": "code",
   "execution_count": null,
   "id": "cc6c575d",
   "metadata": {},
   "outputs": [],
   "source": []
  }
 ],
 "metadata": {
  "kernelspec": {
   "display_name": "Python 3 (ipykernel)",
   "language": "python",
   "name": "python3"
  },
  "language_info": {
   "codemirror_mode": {
    "name": "ipython",
    "version": 3
   },
   "file_extension": ".py",
   "mimetype": "text/x-python",
   "name": "python",
   "nbconvert_exporter": "python",
   "pygments_lexer": "ipython3",
   "version": "3.10.9"
  }
 },
 "nbformat": 4,
 "nbformat_minor": 5
}
