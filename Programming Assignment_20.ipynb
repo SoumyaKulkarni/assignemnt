{
 "cells": [
  {
   "cell_type": "markdown",
   "id": "45cfd5c6",
   "metadata": {},
   "source": [
    "Question1\n",
    "Create a function that takes a list of strings and integers, and filters out the list so that it\n",
    "returns a list of integers only.\n",
    "Examples\n",
    "filter_list([1, 2, 3, &quot;a&quot;, &quot;b&quot;, 4]) ➞ [1, 2, 3, 4]\n",
    "filter_list([&quot;A&quot;, 0, &quot;Edabit&quot;, 1729, &quot;Python&quot;, &quot;1729&quot;]) ➞ [0, 1729]\n",
    "filter_list([&quot;Nothing&quot;, &quot;here&quot;]) ➞ []\n",
    "\n",
    "Question2\n",
    "Given a list of numbers, create a function which returns the list but with each element&#39;s\n",
    "index in the list added to itself. This means you add 0 to the number at index 0, add 1 to the\n",
    "number at index 1, etc...\n",
    "Examples\n",
    "add_indexes([0, 0, 0, 0, 0]) ➞ [0, 1, 2, 3, 4]\n",
    "add_indexes([1, 2, 3, 4, 5]) ➞ [1, 3, 5, 7, 9]\n",
    "add_indexes([5, 4, 3, 2, 1]) ➞ [5, 5, 5, 5, 5]\n",
    "\n",
    "Question3\n",
    "Create a function that takes the height and radius of a cone as arguments and returns the\n",
    "volume of the cone rounded to the nearest hundredth. See the resources tab for the formula.\n",
    "\n",
    "Examples\n",
    "cone_volume(3, 2) ➞ 12.57\n",
    "\n",
    "cone_volume(15, 6) ➞ 565.49\n",
    "cone_volume(18, 0) ➞ 0\n",
    "\n",
    "Question4\n",
    "This Triangular Number Sequence is generated from a pattern of dots that form a triangle.\n",
    "The first 5 numbers of the sequence, or dots, are:\n",
    "1, 3, 6, 10, 15\n",
    "This means that the first triangle has just one dot, the second one has three dots, the third one\n",
    "has 6 dots and so on.\n",
    "Write a function that gives the number of dots with its corresponding triangle number of the\n",
    "sequence.\n",
    "Examples\n",
    "triangle(1) ➞ 1\n",
    "triangle(6) ➞ 21\n",
    "triangle(215) ➞ 23220\n",
    "\n",
    "Question5\n",
    "Create a function that takes a list of numbers between 1 and 10 (excluding one number) and\n",
    "returns the missing number.\n",
    "Examples\n",
    "missing_num([1, 2, 3, 4, 6, 7, 8, 9, 10]) ➞ 5\n",
    "missing_num([7, 2, 3, 6, 5, 9, 1, 4, 8]) ➞ 10\n",
    "missing_num([10, 5, 1, 2, 4, 6, 8, 3, 9]) ➞ 7"
   ]
  },
  {
   "cell_type": "code",
   "execution_count": 1,
   "id": "30ed6b7d",
   "metadata": {},
   "outputs": [
    {
     "name": "stdout",
     "output_type": "stream",
     "text": [
      "[1, 2, 3, 4]\n"
     ]
    }
   ],
   "source": [
    "def filter_list(lst):\n",
    "    int_lst = []\n",
    "    for elem in lst:\n",
    "        if isinstance(elem, int):\n",
    "            int_lst.append(elem)\n",
    "    return int_lst\n",
    "print(filter_list([1, 2, 3, \"a\", \"b\", 4]))\n"
   ]
  },
  {
   "cell_type": "code",
   "execution_count": 2,
   "id": "1948e614",
   "metadata": {},
   "outputs": [
    {
     "name": "stdout",
     "output_type": "stream",
     "text": [
      "[0, 1, 2, 3, 4]\n"
     ]
    }
   ],
   "source": [
    "def add_indexes(lst):\n",
    "    return [i + lst[i] for i in range(len(lst))]\n",
    "\n",
    "print(add_indexes([0, 0, 0, 0, 0]))\n"
   ]
  },
  {
   "cell_type": "code",
   "execution_count": 3,
   "id": "e50dc80a",
   "metadata": {},
   "outputs": [
    {
     "name": "stdout",
     "output_type": "stream",
     "text": [
      "12.57\n"
     ]
    }
   ],
   "source": [
    "import math\n",
    "\n",
    "def cone_volume(h, r):\n",
    "    volume = (1/3) * math.pi * r**2 * h\n",
    "    return round(volume, 2)\n",
    "\n",
    "print(cone_volume(3, 2))\n"
   ]
  },
  {
   "cell_type": "code",
   "execution_count": 5,
   "id": "8528e381",
   "metadata": {},
   "outputs": [],
   "source": [
    "def double_char(string):\n",
    "    result = ''\n",
    "    for char in string:\n",
    "        result += char * 2\n",
    "    return result\n",
    "\n"
   ]
  },
  {
   "cell_type": "code",
   "execution_count": 6,
   "id": "dd1f3229",
   "metadata": {},
   "outputs": [],
   "source": [
    "def reverse(boolean):\n",
    "    if type(boolean) == bool:\n",
    "        return not boolean\n",
    "    else:\n",
    "        return \"boolean expected\"\n",
    "\n",
    "    \n",
    "assert reverse(True) == False\n",
    "assert reverse(False) == True\n",
    "assert reverse(0) == \"boolean expected\"\n",
    "assert reverse(None) == \"boolean expected\"\n"
   ]
  },
  {
   "cell_type": "code",
   "execution_count": 7,
   "id": "33b47565",
   "metadata": {},
   "outputs": [],
   "source": [
    "def num_layers(n):\n",
    "    thickness_mm = 0.5 * 2 ** n\n",
    "    thickness_m = thickness_mm / 1000\n",
    "    return \"{:.3f}m\".format(thickness_m)\n",
    "\n",
    "\n",
    "assert num_layers(1) == \"0.001m\"\n",
    "assert num_layers(4) == \"0.008m\"\n",
    "assert num_layers(21) == \"1048.576m\"\n"
   ]
  },
  {
   "cell_type": "code",
   "execution_count": 8,
   "id": "34c00a13",
   "metadata": {},
   "outputs": [],
   "source": [
    "def index_of_caps(string):\n",
    "    result = []\n",
    "    for i, char in enumerate(string):\n",
    "        if char.isupper():\n",
    "            result.append(i)\n",
    "    return result\n",
    "\n",
    "\n",
    "assert index_of_caps(\"eDaBiT\") == [1, 3, 5]\n",
    "assert index_of_caps(\"eQuINoX\") == [1, 3, 4, 6]\n",
    "assert index_of_caps(\"determine\") == []\n",
    "assert index_of_caps(\"STRIKE\") == [0, 1, 2, 3, 4, 5]\n",
    "assert index_of_caps(\"sUn\") == [1]\n"
   ]
  },
  {
   "cell_type": "code",
   "execution_count": 9,
   "id": "42e4d51a",
   "metadata": {},
   "outputs": [],
   "source": [
    "def find_even_nums(n):\n",
    "    return [i for i in range(1, n+1) if i % 2 == 0]\n",
    "\n",
    "\n",
    "assert find_even_nums(8) == [2, 4, 6, 8]\n",
    "assert find_even_nums(4) == [2, 4]\n",
    "assert find_even_nums(2) == [2]\n"
   ]
  },
  {
   "cell_type": "code",
   "execution_count": null,
   "id": "54eb439b",
   "metadata": {},
   "outputs": [],
   "source": []
  }
 ],
 "metadata": {
  "kernelspec": {
   "display_name": "Python 3 (ipykernel)",
   "language": "python",
   "name": "python3"
  },
  "language_info": {
   "codemirror_mode": {
    "name": "ipython",
    "version": 3
   },
   "file_extension": ".py",
   "mimetype": "text/x-python",
   "name": "python",
   "nbconvert_exporter": "python",
   "pygments_lexer": "ipython3",
   "version": "3.10.9"
  }
 },
 "nbformat": 4,
 "nbformat_minor": 5
}
