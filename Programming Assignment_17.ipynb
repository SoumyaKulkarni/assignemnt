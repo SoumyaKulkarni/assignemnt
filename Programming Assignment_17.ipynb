{
 "cells": [
  {
   "cell_type": "code",
   "execution_count": 1,
   "id": "621d416c",
   "metadata": {},
   "outputs": [
    {
     "name": "stdout",
     "output_type": "stream",
     "text": [
      "0\n",
      "30\n",
      "18\n"
     ]
    }
   ],
   "source": [
    "\n",
    "def evenly_divisible(a, b, c):\n",
    "    # Initialize sum variable to zero\n",
    "    sum = 0\n",
    "    \n",
    "    # Iterate through the range a to b (inclusive)\n",
    "    for num in range(a, b+1):\n",
    "        # Check if the number is divisible by c\n",
    "        if num % c == 0:\n",
    "            # If so, add it to the sum variable\n",
    "            sum += num\n",
    "    \n",
    "    # Return the final sum\n",
    "    return sum\n",
    "\n",
    "# Testing the function with sample inputs\n",
    "print(evenly_divisible(1, 10, 20)) # Output: 0\n",
    "print(evenly_divisible(1, 10, 2)) # Output: 30\n",
    "print(evenly_divisible(1, 10, 3)) # Output: 18"
   ]
  },
  {
   "cell_type": "code",
   "execution_count": null,
   "id": "e414d6e6",
   "metadata": {},
   "outputs": [],
   "source": []
  }
 ],
 "metadata": {
  "kernelspec": {
   "display_name": "Python 3 (ipykernel)",
   "language": "python",
   "name": "python3"
  },
  "language_info": {
   "codemirror_mode": {
    "name": "ipython",
    "version": 3
   },
   "file_extension": ".py",
   "mimetype": "text/x-python",
   "name": "python",
   "nbconvert_exporter": "python",
   "pygments_lexer": "ipython3",
   "version": "3.10.9"
  }
 },
 "nbformat": 4,
 "nbformat_minor": 5
}
