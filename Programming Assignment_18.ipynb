{
 "cells": [
  {
   "cell_type": "code",
   "execution_count": 4,
   "id": "d787f773",
   "metadata": {},
   "outputs": [
    {
     "name": "stdout",
     "output_type": "stream",
     "text": [
      "[1, 2]\n",
      "[1, 0, 15]\n",
      "[1, 2, 123]\n"
     ]
    }
   ],
   "source": [
    "\n",
    "def filter_list(lst):\n",
    "    return [i for i in lst if isinstance(i, int)]\n",
    "\n",
    "# Test the function with sample inputs\n",
    "print(filter_list([1, 2, \"a\", \"b\"]))  # Output: [1, 2]\n",
    "print(filter_list([1, \"a\", \"b\", 0, 15]))  # Output: [1, 0, 15]\n",
    "print(filter_list([1, 2, \"aasf\", \"1\", \"123\", 123]))  # Output: [1, 2, 123]\n",
    "\n"
   ]
  },
  {
   "cell_type": "code",
   "execution_count": 5,
   "id": "43482a43",
   "metadata": {},
   "outputs": [
    {
     "name": "stdout",
     "output_type": "stream",
     "text": [
      "DLROw OLLEh\n",
      "eSrEvEr\n",
      "RADAr\n"
     ]
    }
   ],
   "source": [
    "def reverse(string):\n",
    "    reversed_string = string[::-1]\n",
    "    toggled_string = \"\"\n",
    "    for char in reversed_string:\n",
    "        if char.isupper():\n",
    "            toggled_string += char.lower()\n",
    "        else:\n",
    "            toggled_string += char.upper()\n",
    "    return toggled_string\n",
    "\n",
    "# Test the function with sample inputs\n",
    "print(reverse(\"Hello World\"))  # Output: DLROw OLLEh\n",
    "print(reverse(\"ReVeRsE\"))  # Output: eSrEvEr\n",
    "print(reverse(\"Radar\"))  # Output: RADAr\n",
    "\n"
   ]
  },
  {
   "cell_type": "code",
   "execution_count": 6,
   "id": "3ef69c23",
   "metadata": {},
   "outputs": [
    {
     "name": "stdout",
     "output_type": "stream",
     "text": [
      "1\n",
      "[2, 3, 4, 5]\n",
      "6\n"
     ]
    }
   ],
   "source": [
    "\n",
    "lst = [1, 2, 3, 4, 5, 6]\n",
    "first, *middle, last = lst\n",
    "print(first)  # Output: 1\n",
    "print(middle)  # Output: [2, 3, 4, 5]\n",
    "print(last)  # Output: 6/\n"
   ]
  },
  {
   "cell_type": "code",
   "execution_count": 7,
   "id": "8657b65d",
   "metadata": {},
   "outputs": [],
   "source": [
    "def factorial(n):\n",
    "    if n == 0 or n == 1:\n",
    "        return 1\n",
    "    else:\n",
    "        return n * factorial(n-1)\n"
   ]
  },
  {
   "cell_type": "code",
   "execution_count": 8,
   "id": "cd63ccca",
   "metadata": {},
   "outputs": [
    {
     "name": "stdout",
     "output_type": "stream",
     "text": [
      "120\n"
     ]
    }
   ],
   "source": [
    "print(factorial(5)) "
   ]
  },
  {
   "cell_type": "code",
   "execution_count": null,
   "id": "29a0e636",
   "metadata": {},
   "outputs": [],
   "source": []
  }
 ],
 "metadata": {
  "kernelspec": {
   "display_name": "Python 3 (ipykernel)",
   "language": "python",
   "name": "python3"
  },
  "language_info": {
   "codemirror_mode": {
    "name": "ipython",
    "version": 3
   },
   "file_extension": ".py",
   "mimetype": "text/x-python",
   "name": "python",
   "nbconvert_exporter": "python",
   "pygments_lexer": "ipython3",
   "version": "3.10.9"
  }
 },
 "nbformat": 4,
 "nbformat_minor": 5
}
