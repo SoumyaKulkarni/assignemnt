{
 "cells": [
  {
   "cell_type": "markdown",
   "id": "67842f31",
   "metadata": {},
   "source": [
    "Question 1:\n",
    "Define a class with a generator which can iterate the numbers, which are divisible by\n",
    "7, between a given range 0 and n.\n",
    "\n",
    "Question 2:\n",
    "Write a program to compute the frequency of the words from the input. The output\n",
    "should output after sorting the key alphanumerically.\n",
    "Suppose the following input is supplied to the program:\n",
    "New to Python or choosing between Python 2 and Python 3? Read Python 2 or\n",
    "Python 3.\n",
    "Then, the output should be:\n",
    "2:2\n",
    "3.:1\n",
    "3?:1\n",
    "New:1\n",
    "Python:5\n",
    "Read:1\n",
    "and:1\n",
    "between:1\n",
    "choosing:1\n",
    "or:2\n",
    "to:1\n",
    "\n",
    "Question 3:\n",
    "\n",
    "Define a class Person and its two child classes: Male and Female. All classes have a\n",
    "method &quot;getGender&quot; which can print &quot;Male&quot; for Male class and &quot;Female&quot; for Female\n",
    "class.\n",
    "\n",
    "Question 4:\n",
    "Please write a program to generate all sentences where subject is in [&quot;I&quot;, &quot;You&quot;] and\n",
    "verb is in [&quot;Play&quot;, &quot;Love&quot;] and the object is in [&quot;Hockey&quot;,&quot;Football&quot;].\n",
    "\n",
    "Question 5:\n",
    "Please write a program to compress and decompress the string &quot;hello world!hello\n",
    "world!hello world!hello world!&quot;.\n",
    "\n",
    "Question 6:\n",
    "Please write a binary search function which searches an item in a sorted list. The\n",
    "function should return the index of element to be searched in the list."
   ]
  },
  {
   "cell_type": "code",
   "execution_count": 7,
   "id": "eb893740",
   "metadata": {},
   "outputs": [
    {
     "name": "stdout",
     "output_type": "stream",
     "text": [
      "0\n",
      "7\n",
      "14\n",
      "21\n",
      "28\n",
      "35\n",
      "42\n",
      "49\n"
     ]
    }
   ],
   "source": [
    "# 1\n",
    "\n",
    "class DivisibleBySeven:\n",
    "    def __init__(self, n):\n",
    "        self.n = n\n",
    "\n",
    "    def generate(self):\n",
    "        for i in range(self.n):\n",
    "            if i % 7 == 0:\n",
    "                yield i\n",
    "\n",
    "                \n",
    "div_by_seven = DivisibleBySeven(50)\n",
    "iterator = div_by_seven.generate()\n",
    "for i in iterator:\n",
    "    print(i)\n"
   ]
  },
  {
   "cell_type": "code",
   "execution_count": 8,
   "id": "4422c054",
   "metadata": {},
   "outputs": [
    {
     "name": "stdout",
     "output_type": "stream",
     "text": [
      "Enter a string: Soumya\n",
      "Soumya:1\n"
     ]
    }
   ],
   "source": [
    "# 2\n",
    "\n",
    "input_string = input(\"Enter a string: \")\n",
    "words = input_string.split()\n",
    "word_freq = {}\n",
    "for word in words:\n",
    "    if word in word_freq:\n",
    "        word_freq[word] += 1\n",
    "    else:\n",
    "        word_freq[word] = 1\n",
    "for key in sorted(word_freq):\n",
    "    print(\"{}:{}\".format(key, word_freq[key]))\n",
    "\n",
    "\n",
    "    \n",
    "class Person:\n",
    "    def __init__(self, gender):\n",
    "        self.gender = gender\n",
    "\n",
    "    def getGender(self):\n",
    "        print(self.gender)\n",
    "\n",
    "class Male(Person):\n",
    "    def __init__(self):\n",
    "        super().__init__(\"Male\")\n",
    "\n",
    "class Female(Person):\n",
    "    def __init__(self):\n",
    "        super().__init__(\"Female\")\n"
   ]
  },
  {
   "cell_type": "code",
   "execution_count": 3,
   "id": "617c9cf8",
   "metadata": {},
   "outputs": [],
   "source": [
    "# 3\n",
    "\n"
   ]
  },
  {
   "cell_type": "code",
   "execution_count": 9,
   "id": "6b6d129a",
   "metadata": {},
   "outputs": [
    {
     "name": "stdout",
     "output_type": "stream",
     "text": [
      "['I Play Hockey', 'I Play Football', 'I Love Hockey', 'I Love Football', 'You Play Hockey', 'You Play Football', 'You Love Hockey', 'You Love Football']\n"
     ]
    }
   ],
   "source": [
    "# 4\n",
    "subjects = [\"I\", \"You\"]\n",
    "verbs = [\"Play\", \"Love\"]\n",
    "objects = [\"Hockey\", \"Football\"]\n",
    "\n",
    "sentences = []\n",
    "\n",
    "for subject in subjects:\n",
    "    for verb in verbs:\n",
    "        for obj in objects:\n",
    "            sentence = f\"{subject} {verb} {obj}\"\n",
    "            sentences.append(sentence)\n",
    "\n",
    "print(sentences)\n"
   ]
  },
  {
   "cell_type": "code",
   "execution_count": 10,
   "id": "cbaf1b62",
   "metadata": {},
   "outputs": [
    {
     "name": "stdout",
     "output_type": "stream",
     "text": [
      "b'x\\x9c\\xcbH\\xcd\\xc9\\xc9W(\\xcf/\\xcaIQ\\xcc \\x82\\r\\x00\\xbd[\\x11\\xf5'\n",
      "hello world!hello world!hello world!hello world!\n"
     ]
    }
   ],
   "source": [
    "# 5\n",
    "import zlib\n",
    "\n",
    "text = \"hello world!hello world!hello world!hello world!\"\n",
    "\n",
    "# Compression\n",
    "compressed_text = zlib.compress(text.encode('utf-8'))\n",
    "print(compressed_text)\n",
    "\n",
    "# Decompression\n",
    "decompressed_text = zlib.decompress(compressed_text).decode('utf-8')\n",
    "print(decompressed_text)\n"
   ]
  },
  {
   "cell_type": "code",
   "execution_count": 12,
   "id": "4a4fadf5",
   "metadata": {},
   "outputs": [
    {
     "name": "stdout",
     "output_type": "stream",
     "text": [
      "Element 7 is present at index 3\n"
     ]
    }
   ],
   "source": [
    "# 6\n",
    "def binary_search(arr, x):\n",
    "    low = 0\n",
    "    high = len(arr) - 1\n",
    "    while low <= high:\n",
    "        mid = (low + high) // 2\n",
    "        if arr[mid] == x:\n",
    "            return mid\n",
    "        elif arr[mid] < x:\n",
    "            low = mid + 1\n",
    "        else:\n",
    "            high = mid - 1\n",
    "    return -1\n",
    "\n",
    "my_list = [2, 4, 5, 7, 8, 10, 13, 15, 18, 20]\n",
    "search_item = 7\n",
    "\n",
    "result = binary_search(my_list, search_item)\n",
    "if result != -1:\n",
    "    print(f\"Element {search_item} is present at index {result}\")\n",
    "else:\n",
    "    print(\"Element is not present in the list\")\n"
   ]
  },
  {
   "cell_type": "code",
   "execution_count": null,
   "id": "8b6bf79c",
   "metadata": {},
   "outputs": [],
   "source": []
  }
 ],
 "metadata": {
  "kernelspec": {
   "display_name": "Python 3 (ipykernel)",
   "language": "python",
   "name": "python3"
  },
  "language_info": {
   "codemirror_mode": {
    "name": "ipython",
    "version": 3
   },
   "file_extension": ".py",
   "mimetype": "text/x-python",
   "name": "python",
   "nbconvert_exporter": "python",
   "pygments_lexer": "ipython3",
   "version": "3.10.9"
  }
 },
 "nbformat": 4,
 "nbformat_minor": 5
}
