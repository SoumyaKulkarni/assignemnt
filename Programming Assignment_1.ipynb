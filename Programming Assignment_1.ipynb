{
 "cells": [
  {
   "cell_type": "markdown",
   "id": "2d610fd0",
   "metadata": {},
   "source": [
    "1. Write a Python program to print &quot;Hello Python&quot;?\n",
    "2. Write a Python program to do arithmetical operations addition and division.?\n",
    "3. Write a Python program to find the area of a triangle?\n",
    "4. Write a Python program to swap two variables?\n",
    "5. Write a Python program to generate a random number?"
   ]
  },
  {
   "cell_type": "code",
   "execution_count": 3,
   "id": "cc7b4b58",
   "metadata": {},
   "outputs": [
    {
     "name": "stdout",
     "output_type": "stream",
     "text": [
      "Hello Python\n"
     ]
    }
   ],
   "source": [
    "# 1\n",
    "\n",
    "print(\"Hello Python\")"
   ]
  },
  {
   "cell_type": "code",
   "execution_count": 5,
   "id": "d38bace8",
   "metadata": {},
   "outputs": [
    {
     "name": "stdout",
     "output_type": "stream",
     "text": [
      "Addition of A & b 15\n",
      "Dividing 10 by 5 is 2.0\n"
     ]
    }
   ],
   "source": [
    "# 2\n",
    "a = 10\n",
    "b = 5\n",
    "print(\"Addition of A & b\", a+b)\n",
    "print('Dividing 10 by 5 is', a/b)"
   ]
  },
  {
   "cell_type": "code",
   "execution_count": 6,
   "id": "4e62e179",
   "metadata": {},
   "outputs": [
    {
     "name": "stdout",
     "output_type": "stream",
     "text": [
      "Area of triangle is 7.5\n"
     ]
    }
   ],
   "source": [
    "# 3\n",
    "base = 3\n",
    "height = 5\n",
    "area_of_triangle = (base*height)/2\n",
    "print('Area of triangle is', area_of_triangle)"
   ]
  },
  {
   "cell_type": "code",
   "execution_count": 7,
   "id": "7208c342",
   "metadata": {},
   "outputs": [
    {
     "name": "stdout",
     "output_type": "stream",
     "text": [
      "a= 5 , b= 3\n"
     ]
    }
   ],
   "source": [
    "# 4\n",
    "a = 3\n",
    "b = 5\n",
    "a,b = b,a\n",
    "print(\"a=\",a,\", b=\",b)"
   ]
  },
  {
   "cell_type": "code",
   "execution_count": 13,
   "id": "318e4858",
   "metadata": {},
   "outputs": [
    {
     "name": "stdout",
     "output_type": "stream",
     "text": [
      "52\n"
     ]
    }
   ],
   "source": [
    "# 5\n",
    "import random\n",
    "\n",
    "a = random.randint(1,100)\n",
    "print(a)"
   ]
  },
  {
   "cell_type": "code",
   "execution_count": null,
   "id": "557c265e",
   "metadata": {},
   "outputs": [],
   "source": []
  }
 ],
 "metadata": {
  "kernelspec": {
   "display_name": "Python 3 (ipykernel)",
   "language": "python",
   "name": "python3"
  },
  "language_info": {
   "codemirror_mode": {
    "name": "ipython",
    "version": 3
   },
   "file_extension": ".py",
   "mimetype": "text/x-python",
   "name": "python",
   "nbconvert_exporter": "python",
   "pygments_lexer": "ipython3",
   "version": "3.10.9"
  }
 },
 "nbformat": 4,
 "nbformat_minor": 5
}
