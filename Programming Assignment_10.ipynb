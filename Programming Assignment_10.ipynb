{
 "cells": [
  {
   "cell_type": "markdown",
   "id": "e4a9ca74",
   "metadata": {},
   "source": [
    "1. Write a Python program to find sum of elements in list?\n",
    "2. Write a Python program to Multiply all numbers in the list?\n",
    "3. Write a Python program to find smallest number in a list?\n",
    "4. Write a Python program to find largest number in a list?\n",
    "5. Write a Python program to find second largest number in a list?\n",
    "6. Write a Python program to find N largest elements from a list?\n",
    "7. Write a Python program to print even numbers in a list?\n",
    "8. Write a Python program to print odd numbers in a List?\n",
    "9. Write a Python program to Remove empty List from List?\n",
    "10. Write a Python program to Cloning or Copying a list?\n",
    "11. Write a Python program to Count occurrences of an element in a list?"
   ]
  },
  {
   "cell_type": "code",
   "execution_count": 6,
   "id": "4edaaca3",
   "metadata": {},
   "outputs": [
    {
     "name": "stdout",
     "output_type": "stream",
     "text": [
      "The sum of elements in the list is: 15\n"
     ]
    }
   ],
   "source": [
    "# 1\n",
    "my_list = [1, 2, 3, 4, 5]\n",
    "sum = 0\n",
    "\n",
    "for num in my_list:\n",
    "    sum += num\n",
    "\n",
    "print(\"The sum of elements in the list is:\", sum)\n"
   ]
  },
  {
   "cell_type": "code",
   "execution_count": 7,
   "id": "a82fddc5",
   "metadata": {},
   "outputs": [
    {
     "name": "stdout",
     "output_type": "stream",
     "text": [
      "The product of all numbers in the list is: 120\n"
     ]
    }
   ],
   "source": [
    "# 2\n",
    "my_list = [1, 2, 3, 4, 5]\n",
    "product = 1\n",
    "\n",
    "for num in my_list:\n",
    "    product *= num\n",
    "\n",
    "print(\"The product of all numbers in the list is:\", product)\n"
   ]
  },
  {
   "cell_type": "code",
   "execution_count": 8,
   "id": "7557181f",
   "metadata": {},
   "outputs": [
    {
     "name": "stdout",
     "output_type": "stream",
     "text": [
      "The smallest number in the list is: 5\n"
     ]
    }
   ],
   "source": [
    "# 3\n",
    "my_list = [10, 5, 20, 15, 30]\n",
    "smallest = my_list[0]\n",
    "\n",
    "for num in my_list:\n",
    "    if num < smallest:\n",
    "        smallest = num\n",
    "\n",
    "print(\"The smallest number in the list is:\", smallest)\n"
   ]
  },
  {
   "cell_type": "code",
   "execution_count": 9,
   "id": "31bdf081",
   "metadata": {},
   "outputs": [
    {
     "name": "stdout",
     "output_type": "stream",
     "text": [
      "The largest number in the list is: 30\n"
     ]
    }
   ],
   "source": [
    "# 4\n",
    "my_list = [10, 5, 20, 15, 30]\n",
    "largest = my_list[0]\n",
    "\n",
    "for num in my_list:\n",
    "    if num > largest:\n",
    "        largest = num\n",
    "\n",
    "print(\"The largest number in the list is:\", largest)\n"
   ]
  },
  {
   "cell_type": "code",
   "execution_count": 10,
   "id": "141e70f6",
   "metadata": {},
   "outputs": [
    {
     "name": "stdout",
     "output_type": "stream",
     "text": [
      "The second largest number in the list is: 20\n"
     ]
    }
   ],
   "source": [
    "# 5\n",
    "my_list = [10, 5, 20, 15, 30]\n",
    "largest = my_list[0]\n",
    "second_largest = my_list[0]\n",
    "\n",
    "for num in my_list:\n",
    "    if num > largest:\n",
    "        second_largest = largest\n",
    "        largest = num\n",
    "    elif num > second_largest and num != largest:\n",
    "        second_largest = num\n",
    "\n",
    "print(\"The second largest number in the list is:\", second_largest)\n"
   ]
  },
  {
   "cell_type": "code",
   "execution_count": 11,
   "id": "59ec4ee8",
   "metadata": {},
   "outputs": [],
   "source": [
    "# 6\n"
   ]
  },
  {
   "cell_type": "code",
   "execution_count": 12,
   "id": "7827af84",
   "metadata": {},
   "outputs": [],
   "source": [
    "# 7"
   ]
  },
  {
   "cell_type": "code",
   "execution_count": 13,
   "id": "85a2ffe0",
   "metadata": {},
   "outputs": [],
   "source": [
    "# 8"
   ]
  },
  {
   "cell_type": "code",
   "execution_count": 14,
   "id": "a9c9b74d",
   "metadata": {},
   "outputs": [],
   "source": [
    "# 9"
   ]
  },
  {
   "cell_type": "code",
   "execution_count": 15,
   "id": "a308df29",
   "metadata": {},
   "outputs": [],
   "source": [
    "# 10"
   ]
  },
  {
   "cell_type": "code",
   "execution_count": 16,
   "id": "64a86fcd",
   "metadata": {},
   "outputs": [],
   "source": [
    "# 11"
   ]
  },
  {
   "cell_type": "code",
   "execution_count": null,
   "id": "4243cbf2",
   "metadata": {},
   "outputs": [],
   "source": []
  }
 ],
 "metadata": {
  "kernelspec": {
   "display_name": "Python 3 (ipykernel)",
   "language": "python",
   "name": "python3"
  },
  "language_info": {
   "codemirror_mode": {
    "name": "ipython",
    "version": 3
   },
   "file_extension": ".py",
   "mimetype": "text/x-python",
   "name": "python",
   "nbconvert_exporter": "python",
   "pygments_lexer": "ipython3",
   "version": "3.10.9"
  }
 },
 "nbformat": 4,
 "nbformat_minor": 5
}
